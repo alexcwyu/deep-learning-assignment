{
 "cells": [
  {
   "cell_type": "markdown",
   "metadata": {
    "collapsed": true
   },
   "source": [
    "# Image Classification\n",
    "In this project, you'll classify images from the [CIFAR-10 dataset](https://www.cs.toronto.edu/~kriz/cifar.html).  The dataset consists of airplanes, dogs, cats, and other objects. You'll preprocess the images, then train a convolutional neural network on all the samples. The images need to be normalized and the labels need to be one-hot encoded.  You'll get to apply what you learned and build a convolutional, max pooling, dropout, and fully connected layers.  At the end, you'll get to see your neural network's predictions on the sample images.\n",
    "## Get the Data\n",
    "Run the following cell to download the [CIFAR-10 dataset for python](https://www.cs.toronto.edu/~kriz/cifar-10-python.tar.gz)."
   ]
  },
  {
   "cell_type": "code",
   "execution_count": 1,
   "metadata": {},
   "outputs": [
    {
     "name": "stdout",
     "output_type": "stream",
     "text": [
      "Tests Passed\n",
      "All files found!\n"
     ]
    }
   ],
   "source": [
    "\"\"\"\n",
    "DON'T MODIFY ANYTHING IN THIS CELL THAT IS BELOW THIS LINE\n",
    "\"\"\"\n",
    "from urllib.request import urlretrieve\n",
    "from os.path import isfile, isdir\n",
    "from tqdm import tqdm\n",
    "import problem_unittests as tests\n",
    "import tarfile\n",
    "\n",
    "cifar10_dataset_folder_path = 'cifar-10-batches-py'\n",
    "\n",
    "# Use Floyd's cifar-10 dataset if present\n",
    "floyd_cifar10_location = '/input/cifar-10/python.tar.gz'\n",
    "if isfile(floyd_cifar10_location):\n",
    "    tar_gz_path = floyd_cifar10_location\n",
    "else:\n",
    "    tar_gz_path = 'cifar-10-python.tar.gz'\n",
    "\n",
    "class DLProgress(tqdm):\n",
    "    last_block = 0\n",
    "\n",
    "    def hook(self, block_num=1, block_size=1, total_size=None):\n",
    "        self.total = total_size\n",
    "        self.update((block_num - self.last_block) * block_size)\n",
    "        self.last_block = block_num\n",
    "\n",
    "if not isfile(tar_gz_path):\n",
    "    with DLProgress(unit='B', unit_scale=True, miniters=1, desc='CIFAR-10 Dataset') as pbar:\n",
    "        urlretrieve(\n",
    "            'https://www.cs.toronto.edu/~kriz/cifar-10-python.tar.gz',\n",
    "            tar_gz_path,\n",
    "            pbar.hook)\n",
    "\n",
    "if not isdir(cifar10_dataset_folder_path):\n",
    "    with tarfile.open(tar_gz_path) as tar:\n",
    "        tar.extractall()\n",
    "        tar.close()\n",
    "\n",
    "\n",
    "tests.test_folder_path(cifar10_dataset_folder_path)"
   ]
  },
  {
   "cell_type": "markdown",
   "metadata": {},
   "source": [
    "## Explore the Data\n",
    "The dataset is broken into batches to prevent your machine from running out of memory.  The CIFAR-10 dataset consists of 5 batches, named `data_batch_1`, `data_batch_2`, etc.. Each batch contains the labels and images that are one of the following:\n",
    "* airplane\n",
    "* automobile\n",
    "* bird\n",
    "* cat\n",
    "* deer\n",
    "* dog\n",
    "* frog\n",
    "* horse\n",
    "* ship\n",
    "* truck\n",
    "\n",
    "Understanding a dataset is part of making predictions on the data.  Play around with the code cell below by changing the `batch_id` and `sample_id`. The `batch_id` is the id for a batch (1-5). The `sample_id` is the id for a image and label pair in the batch.\n",
    "\n",
    "Ask yourself \"What are all possible labels?\", \"What is the range of values for the image data?\", \"Are the labels in order or random?\".  Answers to questions like these will help you preprocess the data and end up with better predictions."
   ]
  },
  {
   "cell_type": "code",
   "execution_count": 2,
   "metadata": {},
   "outputs": [
    {
     "name": "stdout",
     "output_type": "stream",
     "text": [
      "\n",
      "Stats of batch 1:\n",
      "Samples: 10000\n",
      "Label Counts: {0: 1005, 1: 974, 2: 1032, 3: 1016, 4: 999, 5: 937, 6: 1030, 7: 1001, 8: 1025, 9: 981}\n",
      "First 20 Labels: [6, 9, 9, 4, 1, 1, 2, 7, 8, 3, 4, 7, 7, 2, 9, 9, 9, 3, 2, 6]\n",
      "\n",
      "Example of Image 5:\n",
      "Image - Min Value: 0 Max Value: 252\n",
      "Image - Shape: (32, 32, 3)\n",
      "Label - Label Id: 1 Name: automobile\n"
     ]
    },
    {
     "data": {
      "image/png": "[encoded data removed]",
      "text/plain": [
       "<matplotlib.figure.Figure at 0x7f45cd63ada0>"
      ]
     },
     "metadata": {
      "image/png": {
       "height": 250,
       "width": 253
      }
     },
     "output_type": "display_data"
    }
   ],
   "source": [
    "%matplotlib inline\n",
    "%config InlineBackend.figure_format = 'retina'\n",
    "\n",
    "import helper\n",
    "import numpy as np\n",
    "\n",
    "# Explore the dataset\n",
    "batch_id = 1\n",
    "sample_id = 5\n",
    "helper.display_stats(cifar10_dataset_folder_path, batch_id, sample_id)"
   ]
  },
  {
   "cell_type": "markdown",
   "metadata": {},
   "source": [
    "## Implement Preprocess Functions\n",
    "### Normalize\n",
    "In the cell below, implement the `normalize` function to take in image data, `x`, and return it as a normalized Numpy array. The values should be in the range of 0 to 1, inclusive.  The return object should be the same shape as `x`."
   ]
  },
  {
   "cell_type": "code",
   "execution_count": 3,
   "metadata": {},
   "outputs": [
    {
     "name": "stdout",
     "output_type": "stream",
     "text": [
      "Tests Passed\n"
     ]
    }
   ],
   "source": [
    "def normalize(x):\n",
    "    \"\"\"\n",
    "    Normalize a list of sample image data in the range of 0 to 1\n",
    "    : x: List of image data.  The image shape is (32, 32, 3)\n",
    "    : return: Numpy array of normalize data\n",
    "    \"\"\"\n",
    "    # TODO: Implement Function\n",
    "    return (x - np.min(x)) / (np.max(x) - np.min(x))\n",
    "\n",
    "\n",
    "\"\"\"\n",
    "DON'T MODIFY ANYTHING IN THIS CELL THAT IS BELOW THIS LINE\n",
    "\"\"\"\n",
    "tests.test_normalize(normalize)"
   ]
  },
  {
   "cell_type": "markdown",
   "metadata": {},
   "source": [
    "### One-hot encode\n",
    "Just like the previous code cell, you'll be implementing a function for preprocessing.  This time, you'll implement the `one_hot_encode` function. The input, `x`, are a list of labels.  Implement the function to return the list of labels as One-Hot encoded Numpy array.  The possible values for labels are 0 to 9. The one-hot encoding function should return the same encoding for each value between each call to `one_hot_encode`.  Make sure to save the map of encodings outside the function.\n",
    "\n",
    "Hint: Don't reinvent the wheel."
   ]
  },
  {
   "cell_type": "code",
   "execution_count": 4,
   "metadata": {},
   "outputs": [
    {
     "name": "stdout",
     "output_type": "stream",
     "text": [
      "Tests Passed\n"
     ]
    }
   ],
   "source": [
    "from sklearn import preprocessing\n",
    "\n",
    "lb = None\n",
    "\n",
    "def one_hot_encode_with_sklearn(x):\n",
    "    global lb\n",
    "    if lb is None:\n",
    "        lb = preprocessing.LabelBinarizer()\n",
    "        lb.fit(x)\n",
    "    return lb.transform(x)\n",
    "\n",
    "def one_hot_encode_with_numpy(x):\n",
    "    one_hot = np.zeros((len(x), 10))\n",
    "    one_hot[np.arange(len(x)), x] = 1\n",
    "#     for row, col in zip(np.arange(len(x)), x):\n",
    "#         one_hot[row, col] = 1\n",
    "    return one_hot\n",
    "    \n",
    "\n",
    "def one_hot_encode(x):\n",
    "    \"\"\"\n",
    "    One hot encode a list of sample labels. Return a one-hot encoded vector for each label.\n",
    "    : x: List of sample Labels\n",
    "    : return: Numpy array of one-hot encoded labels\n",
    "    \"\"\"\n",
    "    # TODO: Implement Function\n",
    "    return one_hot_encode_with_numpy(x)\n",
    "\n",
    "\n",
    "\"\"\"\n",
    "DON'T MODIFY ANYTHING IN THIS CELL THAT IS BELOW THIS LINE\n",
    "\"\"\"\n",
    "tests.test_one_hot_encode(one_hot_encode)"
   ]
  },
  {
   "cell_type": "markdown",
   "metadata": {},
   "source": [
    "### Randomize Data\n",
    "As you saw from exploring the data above, the order of the samples are randomized.  It doesn't hurt to randomize it again, but you don't need to for this dataset."
   ]
  },
  {
   "cell_type": "markdown",
   "metadata": {},
   "source": [
    "## Preprocess all the data and save it\n",
    "Running the code cell below will preprocess all the CIFAR-10 data and save it to file. The code below also uses 10% of the training data for validation."
   ]
  },
  {
   "cell_type": "code",
   "execution_count": 5,
   "metadata": {
    "collapsed": true
   },
   "outputs": [],
   "source": [
    "\"\"\"\n",
    "DON'T MODIFY ANYTHING IN THIS CELL\n",
    "\"\"\"\n",
    "# Preprocess Training, Validation, and Testing Data\n",
    "helper.preprocess_and_save_data(cifar10_dataset_folder_path, normalize, one_hot_encode)"
   ]
  },
  {
   "cell_type": "markdown",
   "metadata": {},
   "source": [
    "# Check Point\n",
    "This is your first checkpoint.  If you ever decide to come back to this notebook or have to restart the notebook, you can start from here.  The preprocessed data has been saved to disk."
   ]
  },
  {
   "cell_type": "code",
   "execution_count": 6,
   "metadata": {
    "collapsed": true
   },
   "outputs": [],
   "source": [
    "\"\"\"\n",
    "DON'T MODIFY ANYTHING IN THIS CELL\n",
    "\"\"\"\n",
    "import pickle\n",
    "import problem_unittests as tests\n",
    "import helper\n",
    "\n",
    "# Load the Preprocessed Validation data\n",
    "valid_features, valid_labels = pickle.load(open('preprocess_validation.p', mode='rb'))"
   ]
  },
  {
   "cell_type": "markdown",
   "metadata": {},
   "source": [
    "## Build the network\n",
    "For the neural network, you'll build each layer into a function.  Most of the code you've seen has been outside of functions. To test your code more thoroughly, we require that you put each layer in a function.  This allows us to give you better feedback and test for simple mistakes using our unittests before you submit your project.\n",
    "\n",
    ">**Note:** If you're finding it hard to dedicate enough time for this course each week, we've provided a small shortcut to this part of the project. In the next couple of problems, you'll have the option to use classes from the [TensorFlow Layers](https://www.tensorflow.org/api_docs/python/tf/layers) or [TensorFlow Layers (contrib)](https://www.tensorflow.org/api_guides/python/contrib.layers) packages to build each layer, except the layers you build in the \"Convolutional and Max Pooling Layer\" section.  TF Layers is similar to Keras's and TFLearn's abstraction to layers, so it's easy to pickup.\n",
    "\n",
    ">However, if you would like to get the most out of this course, try to solve all the problems _without_ using anything from the TF Layers packages. You **can** still use classes from other packages that happen to have the same name as ones you find in TF Layers! For example, instead of using the TF Layers version of the `conv2d` class, [tf.layers.conv2d](https://www.tensorflow.org/api_docs/python/tf/layers/conv2d), you would want to use the TF Neural Network version of `conv2d`, [tf.nn.conv2d](https://www.tensorflow.org/api_docs/python/tf/nn/conv2d). \n",
    "\n",
    "Let's begin!\n",
    "\n",
    "### Input\n",
    "The neural network needs to read the image data, one-hot encoded labels, and dropout keep probability. Implement the following functions\n",
    "* Implement `neural_net_image_input`\n",
    " * Return a [TF Placeholder](https://www.tensorflow.org/api_docs/python/tf/placeholder)\n",
    " * Set the shape using `image_shape` with batch size set to `None`.\n",
    " * Name the TensorFlow placeholder \"x\" using the TensorFlow `name` parameter in the [TF Placeholder](https://www.tensorflow.org/api_docs/python/tf/placeholder).\n",
    "* Implement `neural_net_label_input`\n",
    " * Return a [TF Placeholder](https://www.tensorflow.org/api_docs/python/tf/placeholder)\n",
    " * Set the shape using `n_classes` with batch size set to `None`.\n",
    " * Name the TensorFlow placeholder \"y\" using the TensorFlow `name` parameter in the [TF Placeholder](https://www.tensorflow.org/api_docs/python/tf/placeholder).\n",
    "* Implement `neural_net_keep_prob_input`\n",
    " * Return a [TF Placeholder](https://www.tensorflow.org/api_docs/python/tf/placeholder) for dropout keep probability.\n",
    " * Name the TensorFlow placeholder \"keep_prob\" using the TensorFlow `name` parameter in the [TF Placeholder](https://www.tensorflow.org/api_docs/python/tf/placeholder).\n",
    "\n",
    "These names will be used at the end of the project to load your saved model.\n",
    "\n",
    "Note: `None` for shapes in TensorFlow allow for a dynamic size."
   ]
  },
  {
   "cell_type": "code",
   "execution_count": 7,
   "metadata": {},
   "outputs": [
    {
     "name": "stdout",
     "output_type": "stream",
     "text": [
      "Image Input Tests Passed.\n",
      "Label Input Tests Passed.\n",
      "Keep Prob Tests Passed.\n"
     ]
    }
   ],
   "source": [
    "import tensorflow as tf\n",
    "\n",
    "def neural_net_image_input(image_shape):\n",
    "    \"\"\"\n",
    "    Return a Tensor for a batch of image input\n",
    "    : image_shape: Shape of the images\n",
    "    : return: Tensor for image input.\n",
    "    \"\"\"\n",
    "    # TODO: Implement Function\n",
    "    image_height, image_width, color_channels = image_shape\n",
    "    return tf.placeholder(tf.float32, shape=[None, image_height, image_width, color_channels], name='x')\n",
    "\n",
    "\n",
    "def neural_net_label_input(n_classes):\n",
    "    \"\"\"\n",
    "    Return a Tensor for a batch of label input\n",
    "    : n_classes: Number of classes\n",
    "    : return: Tensor for label input.\n",
    "    \"\"\"\n",
    "    # TODO: Implement Function\n",
    "    return tf.placeholder(tf.float32, [None, n_classes], name='y')\n",
    "\n",
    "\n",
    "def neural_net_keep_prob_input():\n",
    "    \"\"\"\n",
    "    Return a Tensor for keep probability\n",
    "    : return: Tensor for keep probability.\n",
    "    \"\"\"\n",
    "    # TODO: Implement Function\n",
    "    return tf.placeholder(tf.float32, name='keep_prob')\n",
    "\n",
    "\n",
    "\"\"\"\n",
    "DON'T MODIFY ANYTHING IN THIS CELL THAT IS BELOW THIS LINE\n",
    "\"\"\"\n",
    "tf.reset_default_graph()\n",
    "tests.test_nn_image_inputs(neural_net_image_input)\n",
    "tests.test_nn_label_inputs(neural_net_label_input)\n",
    "tests.test_nn_keep_prob_inputs(neural_net_keep_prob_input)"
   ]
  },
  {
   "cell_type": "markdown",
   "metadata": {},
   "source": [
    "### Convolution and Max Pooling Layer\n",
    "Convolution layers have a lot of success with images. For this code cell, you should implement the function `conv2d_maxpool` to apply convolution then max pooling:\n",
    "* Create the weight and bias using `conv_ksize`, `conv_num_outputs` and the shape of `x_tensor`.\n",
    "* Apply a convolution to `x_tensor` using weight and `conv_strides`.\n",
    " * We recommend you use same padding, but you're welcome to use any padding.\n",
    "* Add bias\n",
    "* Add a nonlinear activation to the convolution.\n",
    "* Apply Max Pooling using `pool_ksize` and `pool_strides`.\n",
    " * We recommend you use same padding, but you're welcome to use any padding.\n",
    "\n",
    "**Note:** You **can't** use [TensorFlow Layers](https://www.tensorflow.org/api_docs/python/tf/layers) or [TensorFlow Layers (contrib)](https://www.tensorflow.org/api_guides/python/contrib.layers) for **this** layer, but you can still use TensorFlow's [Neural Network](https://www.tensorflow.org/api_docs/python/tf/nn) package. You may still use the shortcut option for all the **other** layers."
   ]
  },
  {
   "cell_type": "code",
   "execution_count": 8,
   "metadata": {},
   "outputs": [
    {
     "name": "stdout",
     "output_type": "stream",
     "text": [
      "Tests Passed\n"
     ]
    }
   ],
   "source": [
    "def conv2d_maxpool(x_tensor, conv_num_outputs, conv_ksize, conv_strides, pool_ksize, pool_strides):\n",
    "    \"\"\"\n",
    "    Apply convolution then max pooling to x_tensor\n",
    "    :param x_tensor: TensorFlow Tensor\n",
    "    :param conv_num_outputs: Number of outputs for the convolutional layer\n",
    "    :param conv_ksize: kernal size 2-D Tuple for the convolutional layer\n",
    "    :param conv_strides: Stride 2-D Tuple for convolution\n",
    "    :param pool_ksize: kernal size 2-D Tuple for pool\n",
    "    :param pool_strides: Stride 2-D Tuple for pool\n",
    "    : return: A tensor that represents convolution and max pooling of x_tensor\n",
    "    \"\"\"\n",
    "    # TODO: Implement Function\n",
    "    # Weight and bias\n",
    "    color_channels = x_tensor.shape[3].value\n",
    "    weight = tf.Variable(tf.truncated_normal([conv_ksize[0], conv_ksize[1], color_channels, conv_num_outputs], \n",
    "                                             mean=0, \n",
    "                                             stddev=0.1))\n",
    "    bias = tf.Variable(tf.zeros(conv_num_outputs))\n",
    "\n",
    "    conv_layer = tf.nn.conv2d(x_tensor, \n",
    "                              weight, \n",
    "                              strides=[1, conv_strides[0], conv_strides[1], 1], \n",
    "                              padding='SAME')\n",
    "    conv_layer = tf.nn.bias_add(conv_layer, bias)\n",
    "    conv_layer = tf.nn.relu(conv_layer)\n",
    "    # Apply Max Pooling\n",
    "    conv_layer = tf.nn.max_pool(\n",
    "        conv_layer,\n",
    "        ksize=[1, pool_ksize[0], pool_ksize[1], 1],\n",
    "        strides=[1, pool_strides[0], pool_strides[1], 1],\n",
    "        padding='SAME')\n",
    "    \n",
    "    return conv_layer\n",
    "\n",
    "\n",
    "\"\"\"\n",
    "DON'T MODIFY ANYTHING IN THIS CELL THAT IS BELOW THIS LINE\n",
    "\"\"\"\n",
    "tests.test_con_pool(conv2d_maxpool)"
   ]
  },
  {
   "cell_type": "markdown",
   "metadata": {},
   "source": [
    "### Flatten Layer\n",
    "Implement the `flatten` function to change the dimension of `x_tensor` from a 4-D tensor to a 2-D tensor.  The output should be the shape (*Batch Size*, *Flattened Image Size*). Shortcut option: you can use classes from the [TensorFlow Layers](https://www.tensorflow.org/api_docs/python/tf/layers) or [TensorFlow Layers (contrib)](https://www.tensorflow.org/api_guides/python/contrib.layers) packages for this layer. For more of a challenge, only use other TensorFlow packages."
   ]
  },
  {
   "cell_type": "code",
   "execution_count": 9,
   "metadata": {},
   "outputs": [
    {
     "name": "stdout",
     "output_type": "stream",
     "text": [
      "Tests Passed\n"
     ]
    }
   ],
   "source": [
    "def flatten(x_tensor):\n",
    "    \"\"\"\n",
    "    Flatten x_tensor to (Batch Size, Flattened Image Size)\n",
    "    : x_tensor: A tensor of size (Batch Size, ...), where ... are the image dimensions.\n",
    "    : return: A tensor of size (Batch Size, Flattened Image Size).\n",
    "    \"\"\"\n",
    "    # TODO: Implement Function\n",
    "#     size = 1\n",
    "#     for dim in x_tensor.get_shape().as_list()[1:]:\n",
    "#         size *= dim\n",
    "#     return tf.reshape(x_tensor, [-1,size])\n",
    "    return tf.contrib.layers.flatten(x_tensor)\n",
    "\n",
    "\n",
    "\"\"\"\n",
    "DON'T MODIFY ANYTHING IN THIS CELL THAT IS BELOW THIS LINE\n",
    "\"\"\"\n",
    "tests.test_flatten(flatten)"
   ]
  },
  {
   "cell_type": "markdown",
   "metadata": {},
   "source": [
    "### Fully-Connected Layer\n",
    "Implement the `fully_conn` function to apply a fully connected layer to `x_tensor` with the shape (*Batch Size*, *num_outputs*). Shortcut option: you can use classes from the [TensorFlow Layers](https://www.tensorflow.org/api_docs/python/tf/layers) or [TensorFlow Layers (contrib)](https://www.tensorflow.org/api_guides/python/contrib.layers) packages for this layer. For more of a challenge, only use other TensorFlow packages."
   ]
  },
  {
   "cell_type": "code",
   "execution_count": 10,
   "metadata": {},
   "outputs": [
    {
     "name": "stdout",
     "output_type": "stream",
     "text": [
      "Tests Passed\n"
     ]
    }
   ],
   "source": [
    "def fully_conn(x_tensor, num_outputs):\n",
    "    \"\"\"\n",
    "    Apply a fully connected layer to x_tensor using weight and bias\n",
    "    : x_tensor: A 2-D tensor where the first dimension is batch size.\n",
    "    : num_outputs: The number of output that the new tensor should be.\n",
    "    : return: A 2-D tensor where the second dimension is num_outputs.\n",
    "    \"\"\"\n",
    "    # TODO: Implement Function\n",
    "    weight = tf.Variable(tf.truncated_normal([x_tensor.shape[1].value, num_outputs], \n",
    "                                             mean=0, \n",
    "                                             stddev=0.1))\n",
    "    bias = tf.Variable(tf.zeros(num_outputs))\n",
    "\n",
    "    layer = tf.nn.bias_add(tf.matmul(x_tensor, weight), bias)\n",
    "    layer = tf.nn.relu(layer)\n",
    "    \n",
    "    return layer\n",
    "\n",
    "\n",
    "\"\"\"\n",
    "DON'T MODIFY ANYTHING IN THIS CELL THAT IS BELOW THIS LINE\n",
    "\"\"\"\n",
    "tests.test_fully_conn(fully_conn)"
   ]
  },
  {
   "cell_type": "markdown",
   "metadata": {},
   "source": [
    "### Output Layer\n",
    "Implement the `output` function to apply a fully connected layer to `x_tensor` with the shape (*Batch Size*, *num_outputs*). Shortcut option: you can use classes from the [TensorFlow Layers](https://www.tensorflow.org/api_docs/python/tf/layers) or [TensorFlow Layers (contrib)](https://www.tensorflow.org/api_guides/python/contrib.layers) packages for this layer. For more of a challenge, only use other TensorFlow packages.\n",
    "\n",
    "**Note:** Activation, softmax, or cross entropy should **not** be applied to this."
   ]
  },
  {
   "cell_type": "code",
   "execution_count": 11,
   "metadata": {},
   "outputs": [
    {
     "name": "stdout",
     "output_type": "stream",
     "text": [
      "Tests Passed\n"
     ]
    }
   ],
   "source": [
    "def output(x_tensor, num_outputs):\n",
    "    \"\"\"\n",
    "    Apply a output layer to x_tensor using weight and bias\n",
    "    : x_tensor: A 2-D tensor where the first dimension is batch size.\n",
    "    : num_outputs: The number of output that the new tensor should be.\n",
    "    : return: A 2-D tensor where the second dimension is num_outputs.\n",
    "    \"\"\"\n",
    "    \n",
    "    weight = tf.Variable(tf.truncated_normal([x_tensor.shape[1].value, num_outputs], \n",
    "                                             mean=0, \n",
    "                                             stddev=0.1))\n",
    "    bias = tf.Variable(tf.zeros(num_outputs))\n",
    "    \n",
    "    out = tf.nn.bias_add(tf.matmul(x_tensor, weight), bias)\n",
    "    return out\n",
    "\n",
    "\n",
    "\"\"\"\n",
    "DON'T MODIFY ANYTHING IN THIS CELL THAT IS BELOW THIS LINE\n",
    "\"\"\"\n",
    "tests.test_output(output)"
   ]
  },
  {
   "cell_type": "markdown",
   "metadata": {},
   "source": [
    "### Create Convolutional Model\n",
    "Implement the function `conv_net` to create a convolutional neural network model. The function takes in a batch of images, `x`, and outputs logits.  Use the layers you created above to create this model:\n",
    "\n",
    "* Apply 1, 2, or 3 Convolution and Max Pool layers\n",
    "* Apply a Flatten Layer\n",
    "* Apply 1, 2, or 3 Fully Connected Layers\n",
    "* Apply an Output Layer\n",
    "* Return the output\n",
    "* Apply [TensorFlow's Dropout](https://www.tensorflow.org/api_docs/python/tf/nn/dropout) to one or more layers in the model using `keep_prob`. "
   ]
  },
  {
   "cell_type": "code",
   "execution_count": 12,
   "metadata": {},
   "outputs": [
    {
     "name": "stdout",
     "output_type": "stream",
     "text": [
      "Neural Network Built!\n"
     ]
    }
   ],
   "source": [
    "def conv_net(x, keep_prob):\n",
    "    \"\"\"\n",
    "    Create a convolutional neural network model\n",
    "    : x: Placeholder tensor that holds image data.\n",
    "    : keep_prob: Placeholder tensor that hold dropout keep probability.\n",
    "    : return: Tensor that represents logits\n",
    "    \"\"\"\n",
    "    # TODO: Apply 1, 2, or 3 Convolution and Max Pool layers\n",
    "    #    Play around with different number of outputs, kernel size and stride\n",
    "    # Function Definition from Above:\n",
    "    #    conv2d_maxpool(x_tensor, conv_num_outputs, conv_ksize, conv_strides, pool_ksize, pool_strides)\n",
    "    \n",
    "    conv_ksize = (3, 3)\n",
    "    pool_ksize = (2, 2)\n",
    "    pool_strides = (2, 2)\n",
    "        \n",
    "    conv_layer1 = conv2d_maxpool(x, 16, conv_ksize, (1, 1), pool_ksize, pool_strides)\n",
    "    conv_layer2 = conv2d_maxpool(conv_layer1, 32, conv_ksize, (2, 2), pool_ksize, pool_strides)\n",
    "    conv_layer3 = conv2d_maxpool(conv_layer2, 64, conv_ksize, (1, 1), pool_ksize, pool_strides)\n",
    "\n",
    "    # TODO: Apply a Flatten Layer\n",
    "    # Function Definition from Above:\n",
    "    #   flatten(x_tensor)\n",
    "    flatten_layer = flatten(conv_layer3)\n",
    "    \n",
    "\n",
    "    # TODO: Apply 1, 2, or 3 Fully Connected Layers\n",
    "    #    Play around with different number of outputs\n",
    "    # Function Definition from Above:\n",
    "    #   fully_conn(x_tensor, num_outputs)\n",
    "    fully_conn_layer = fully_conn(flatten_layer, 10)\n",
    "    dropout_layer = tf.nn.dropout(fully_conn_layer, keep_prob)\n",
    "    \n",
    "    \n",
    "    # TODO: Apply an Output Layer\n",
    "    #    Set this to the number of classes\n",
    "    # Function Definition from Above:\n",
    "    #   output(x_tensor, num_outputs)\n",
    "    output_layer = output(dropout_layer, 10)\n",
    "    \n",
    "    \n",
    "    # TODO: return output\n",
    "    return output_layer\n",
    "\n",
    "\n",
    "\"\"\"\n",
    "DON'T MODIFY ANYTHING IN THIS CELL THAT IS BELOW THIS LINE\n",
    "\"\"\"\n",
    "\n",
    "##############################\n",
    "## Build the Neural Network ##\n",
    "##############################\n",
    "\n",
    "# Remove previous weights, bias, inputs, etc..\n",
    "tf.reset_default_graph()\n",
    "\n",
    "# Inputs\n",
    "x = neural_net_image_input((32, 32, 3))\n",
    "y = neural_net_label_input(10)\n",
    "keep_prob = neural_net_keep_prob_input()\n",
    "\n",
    "# Model\n",
    "logits = conv_net(x, keep_prob)\n",
    "\n",
    "# Name logits Tensor, so that is can be loaded from disk after training\n",
    "logits = tf.identity(logits, name='logits')\n",
    "\n",
    "# Loss and Optimizer\n",
    "cost = tf.reduce_mean(tf.nn.softmax_cross_entropy_with_logits(logits=logits, labels=y))\n",
    "optimizer = tf.train.AdamOptimizer().minimize(cost)\n",
    "\n",
    "# Accuracy\n",
    "correct_pred = tf.equal(tf.argmax(logits, 1), tf.argmax(y, 1))\n",
    "accuracy = tf.reduce_mean(tf.cast(correct_pred, tf.float32), name='accuracy')\n",
    "\n",
    "tests.test_conv_net(conv_net)"
   ]
  },
  {
   "cell_type": "markdown",
   "metadata": {},
   "source": [
    "## Train the Neural Network\n",
    "### Single Optimization\n",
    "Implement the function `train_neural_network` to do a single optimization.  The optimization should use `optimizer` to optimize in `session` with a `feed_dict` of the following:\n",
    "* `x` for image input\n",
    "* `y` for labels\n",
    "* `keep_prob` for keep probability for dropout\n",
    "\n",
    "This function will be called for each batch, so `tf.global_variables_initializer()` has already been called.\n",
    "\n",
    "Note: Nothing needs to be returned. This function is only optimizing the neural network."
   ]
  },
  {
   "cell_type": "code",
   "execution_count": 13,
   "metadata": {},
   "outputs": [
    {
     "name": "stdout",
     "output_type": "stream",
     "text": [
      "Tests Passed\n"
     ]
    }
   ],
   "source": [
    "def train_neural_network(session, optimizer, keep_probability, feature_batch, label_batch):\n",
    "    \"\"\"\n",
    "    Optimize the session on a batch of images and labels\n",
    "    : session: Current TensorFlow session\n",
    "    : optimizer: TensorFlow optimizer function\n",
    "    : keep_probability: keep probability\n",
    "    : feature_batch: Batch of Numpy image data\n",
    "    : label_batch: Batch of Numpy label data\n",
    "    \"\"\"\n",
    "    # TODO: Implement Function\n",
    "    session.run(optimizer,\n",
    "                feed_dict={x: feature_batch, y: label_batch, keep_prob: keep_probability})\n",
    "\n",
    "\n",
    "\"\"\"\n",
    "DON'T MODIFY ANYTHING IN THIS CELL THAT IS BELOW THIS LINE\n",
    "\"\"\"\n",
    "tests.test_train_nn(train_neural_network)"
   ]
  },
  {
   "cell_type": "markdown",
   "metadata": {},
   "source": [
    "### Show Stats\n",
    "Implement the function `print_stats` to print loss and validation accuracy.  Use the global variables `valid_features` and `valid_labels` to calculate validation accuracy.  Use a keep probability of `1.0` to calculate the loss and validation accuracy."
   ]
  },
  {
   "cell_type": "code",
   "execution_count": 14,
   "metadata": {
    "collapsed": true
   },
   "outputs": [],
   "source": [
    "def print_stats(session, feature_batch, label_batch, cost, accuracy):\n",
    "    \"\"\"\n",
    "    Print information about loss and validation accuracy\n",
    "    : session: Current TensorFlow session\n",
    "    : feature_batch: Batch of Numpy image data\n",
    "    : label_batch: Batch of Numpy label data\n",
    "    : cost: TensorFlow cost function\n",
    "    : accuracy: TensorFlow accuracy function\n",
    "    \"\"\"\n",
    "    # TODO: Implement Function\n",
    "    loss = session.run(cost, feed_dict={\n",
    "        x: feature_batch,\n",
    "        y: label_batch,\n",
    "        keep_prob: 1.0\n",
    "    })\n",
    "    \n",
    "    valid_accuracy = sess.run(accuracy,feed_dict={\n",
    "        x: valid_features,\n",
    "        y: valid_labels,\n",
    "        keep_prob: 1.0})\n",
    "    print('Loss: {:.4f} Accuracy: {:.4f}'.format(loss, valid_accuracy))"
   ]
  },
  {
   "cell_type": "markdown",
   "metadata": {},
   "source": [
    "### Hyperparameters\n",
    "Tune the following parameters:\n",
    "* Set `epochs` to the number of iterations until the network stops learning or start overfitting\n",
    "* Set `batch_size` to the highest number that your machine has memory for.  Most people set them to common sizes of memory:\n",
    " * 64\n",
    " * 128\n",
    " * 256\n",
    " * ...\n",
    "* Set `keep_probability` to the probability of keeping a node using dropout"
   ]
  },
  {
   "cell_type": "code",
   "execution_count": 15,
   "metadata": {
    "collapsed": true
   },
   "outputs": [],
   "source": [
    "# TODO: Tune Parameters\n",
    "epochs = 40\n",
    "batch_size = 256\n",
    "keep_probability = 0.75"
   ]
  },
  {
   "cell_type": "markdown",
   "metadata": {},
   "source": [
    "### Train on a Single CIFAR-10 Batch\n",
    "Instead of training the neural network on all the CIFAR-10 batches of data, let's use a single batch. This should save time while you iterate on the model to get a better accuracy.  Once the final validation accuracy is 50% or greater, run the model on all the data in the next section."
   ]
  },
  {
   "cell_type": "code",
   "execution_count": 16,
   "metadata": {},
   "outputs": [
    {
     "name": "stdout",
     "output_type": "stream",
     "text": [
      "Checking the Training on a Single Batch...\n",
      "Epoch  1, CIFAR-10 Batch 1:  Loss: 2.2852 Accuracy: 0.1790\n",
      "Epoch  2, CIFAR-10 Batch 1:  Loss: 2.1977 Accuracy: 0.2178\n",
      "Epoch  3, CIFAR-10 Batch 1:  Loss: 2.1501 Accuracy: 0.2244\n",
      "Epoch  4, CIFAR-10 Batch 1:  Loss: 2.1034 Accuracy: 0.2954\n",
      "Epoch  5, CIFAR-10 Batch 1:  Loss: 2.0454 Accuracy: 0.3108\n",
      "Epoch  6, CIFAR-10 Batch 1:  Loss: 2.0039 Accuracy: 0.3242\n",
      "Epoch  7, CIFAR-10 Batch 1:  Loss: 2.0056 Accuracy: 0.3104\n",
      "Epoch  8, CIFAR-10 Batch 1:  Loss: 1.9674 Accuracy: 0.3292\n",
      "Epoch  9, CIFAR-10 Batch 1:  Loss: 1.9317 Accuracy: 0.3324\n",
      "Epoch 10, CIFAR-10 Batch 1:  Loss: 1.8966 Accuracy: 0.3240\n",
      "Epoch 11, CIFAR-10 Batch 1:  Loss: 1.8645 Accuracy: 0.3262\n",
      "Epoch 12, CIFAR-10 Batch 1:  Loss: 1.8169 Accuracy: 0.3316\n",
      "Epoch 13, CIFAR-10 Batch 1:  Loss: 1.8167 Accuracy: 0.3326\n",
      "Epoch 14, CIFAR-10 Batch 1:  Loss: 1.7604 Accuracy: 0.3466\n",
      "Epoch 15, CIFAR-10 Batch 1:  Loss: 1.7130 Accuracy: 0.3598\n",
      "Epoch 16, CIFAR-10 Batch 1:  Loss: 1.7087 Accuracy: 0.3534\n",
      "Epoch 17, CIFAR-10 Batch 1:  Loss: 1.6328 Accuracy: 0.3706\n",
      "Epoch 18, CIFAR-10 Batch 1:  Loss: 1.6146 Accuracy: 0.3594\n",
      "Epoch 19, CIFAR-10 Batch 1:  Loss: 1.5629 Accuracy: 0.3836\n",
      "Epoch 20, CIFAR-10 Batch 1:  Loss: 1.5411 Accuracy: 0.3762\n",
      "Epoch 21, CIFAR-10 Batch 1:  Loss: 1.4903 Accuracy: 0.3950\n",
      "Epoch 22, CIFAR-10 Batch 1:  Loss: 1.4654 Accuracy: 0.4058\n",
      "Epoch 23, CIFAR-10 Batch 1:  Loss: 1.4561 Accuracy: 0.3976\n",
      "Epoch 24, CIFAR-10 Batch 1:  Loss: 1.4466 Accuracy: 0.3946\n",
      "Epoch 25, CIFAR-10 Batch 1:  Loss: 1.3964 Accuracy: 0.4100\n",
      "Epoch 26, CIFAR-10 Batch 1:  Loss: 1.3914 Accuracy: 0.4050\n",
      "Epoch 27, CIFAR-10 Batch 1:  Loss: 1.3932 Accuracy: 0.4018\n",
      "Epoch 28, CIFAR-10 Batch 1:  Loss: 1.3559 Accuracy: 0.4180\n",
      "Epoch 29, CIFAR-10 Batch 1:  Loss: 1.3363 Accuracy: 0.4194\n",
      "Epoch 30, CIFAR-10 Batch 1:  Loss: 1.3154 Accuracy: 0.4290\n",
      "Epoch 31, CIFAR-10 Batch 1:  Loss: 1.3017 Accuracy: 0.4178\n",
      "Epoch 32, CIFAR-10 Batch 1:  Loss: 1.2413 Accuracy: 0.4256\n",
      "Epoch 33, CIFAR-10 Batch 1:  Loss: 1.2512 Accuracy: 0.4288\n",
      "Epoch 34, CIFAR-10 Batch 1:  Loss: 1.2352 Accuracy: 0.4294\n",
      "Epoch 35, CIFAR-10 Batch 1:  Loss: 1.2554 Accuracy: 0.4294\n",
      "Epoch 36, CIFAR-10 Batch 1:  Loss: 1.2363 Accuracy: 0.4366\n",
      "Epoch 37, CIFAR-10 Batch 1:  Loss: 1.2104 Accuracy: 0.4470\n",
      "Epoch 38, CIFAR-10 Batch 1:  Loss: 1.1598 Accuracy: 0.4348\n",
      "Epoch 39, CIFAR-10 Batch 1:  Loss: 1.1327 Accuracy: 0.4386\n",
      "Epoch 40, CIFAR-10 Batch 1:  Loss: 1.1428 Accuracy: 0.4528\n"
     ]
    }
   ],
   "source": [
    "\"\"\"\n",
    "DON'T MODIFY ANYTHING IN THIS CELL\n",
    "\"\"\"\n",
    "print('Checking the Training on a Single Batch...')\n",
    "with tf.Session() as sess:\n",
    "    # Initializing the variables\n",
    "    sess.run(tf.global_variables_initializer())\n",
    "    \n",
    "    # Training cycle\n",
    "    for epoch in range(epochs):\n",
    "        batch_i = 1\n",
    "        for batch_features, batch_labels in helper.load_preprocess_training_batch(batch_i, batch_size):\n",
    "            train_neural_network(sess, optimizer, keep_probability, batch_features, batch_labels)\n",
    "        print('Epoch {:>2}, CIFAR-10 Batch {}:  '.format(epoch + 1, batch_i), end='')\n",
    "        print_stats(sess, batch_features, batch_labels, cost, accuracy)"
   ]
  },
  {
   "cell_type": "markdown",
   "metadata": {},
   "source": [
    "### Fully Train the Model\n",
    "Now that you got a good accuracy with a single CIFAR-10 batch, try it with all five batches."
   ]
  },
  {
   "cell_type": "code",
   "execution_count": 17,
   "metadata": {},
   "outputs": [
    {
     "name": "stdout",
     "output_type": "stream",
     "text": [
      "Training...\n",
      "Epoch  1, CIFAR-10 Batch 1:  Loss: 2.3063 Accuracy: 0.1196\n",
      "Epoch  1, CIFAR-10 Batch 2:  Loss: 2.2179 Accuracy: 0.1292\n",
      "Epoch  1, CIFAR-10 Batch 3:  Loss: 2.0064 Accuracy: 0.2294\n",
      "Epoch  1, CIFAR-10 Batch 4:  Loss: 2.0594 Accuracy: 0.2574\n",
      "Epoch  1, CIFAR-10 Batch 5:  Loss: 1.9537 Accuracy: 0.2714\n",
      "Epoch  2, CIFAR-10 Batch 1:  Loss: 2.0738 Accuracy: 0.2854\n",
      "Epoch  2, CIFAR-10 Batch 2:  Loss: 1.9164 Accuracy: 0.2950\n",
      "Epoch  2, CIFAR-10 Batch 3:  Loss: 1.7302 Accuracy: 0.2924\n",
      "Epoch  2, CIFAR-10 Batch 4:  Loss: 1.7921 Accuracy: 0.3008\n",
      "Epoch  2, CIFAR-10 Batch 5:  Loss: 1.8261 Accuracy: 0.2884\n",
      "Epoch  3, CIFAR-10 Batch 1:  Loss: 2.0237 Accuracy: 0.3212\n",
      "Epoch  3, CIFAR-10 Batch 2:  Loss: 1.8805 Accuracy: 0.3220\n",
      "Epoch  3, CIFAR-10 Batch 3:  Loss: 1.6818 Accuracy: 0.3198\n",
      "Epoch  3, CIFAR-10 Batch 4:  Loss: 1.7253 Accuracy: 0.3250\n",
      "Epoch  3, CIFAR-10 Batch 5:  Loss: 1.7060 Accuracy: 0.3196\n",
      "Epoch  4, CIFAR-10 Batch 1:  Loss: 1.9770 Accuracy: 0.3270\n",
      "Epoch  4, CIFAR-10 Batch 2:  Loss: 1.8520 Accuracy: 0.3342\n",
      "Epoch  4, CIFAR-10 Batch 3:  Loss: 1.6345 Accuracy: 0.3352\n",
      "Epoch  4, CIFAR-10 Batch 4:  Loss: 1.6757 Accuracy: 0.3420\n",
      "Epoch  4, CIFAR-10 Batch 5:  Loss: 1.6371 Accuracy: 0.3430\n",
      "Epoch  5, CIFAR-10 Batch 1:  Loss: 1.9002 Accuracy: 0.3556\n",
      "Epoch  5, CIFAR-10 Batch 2:  Loss: 1.8139 Accuracy: 0.3472\n",
      "Epoch  5, CIFAR-10 Batch 3:  Loss: 1.6129 Accuracy: 0.3464\n",
      "Epoch  5, CIFAR-10 Batch 4:  Loss: 1.6676 Accuracy: 0.3598\n",
      "Epoch  5, CIFAR-10 Batch 5:  Loss: 1.5829 Accuracy: 0.3610\n",
      "Epoch  6, CIFAR-10 Batch 1:  Loss: 1.8779 Accuracy: 0.3560\n",
      "Epoch  6, CIFAR-10 Batch 2:  Loss: 1.7600 Accuracy: 0.3618\n",
      "Epoch  6, CIFAR-10 Batch 3:  Loss: 1.5674 Accuracy: 0.3828\n",
      "Epoch  6, CIFAR-10 Batch 4:  Loss: 1.6284 Accuracy: 0.3736\n",
      "Epoch  6, CIFAR-10 Batch 5:  Loss: 1.5539 Accuracy: 0.3820\n",
      "Epoch  7, CIFAR-10 Batch 1:  Loss: 1.7946 Accuracy: 0.3806\n",
      "Epoch  7, CIFAR-10 Batch 2:  Loss: 1.6965 Accuracy: 0.3770\n",
      "Epoch  7, CIFAR-10 Batch 3:  Loss: 1.5272 Accuracy: 0.3930\n",
      "Epoch  7, CIFAR-10 Batch 4:  Loss: 1.5901 Accuracy: 0.3992\n",
      "Epoch  7, CIFAR-10 Batch 5:  Loss: 1.5291 Accuracy: 0.4054\n",
      "Epoch  8, CIFAR-10 Batch 1:  Loss: 1.7587 Accuracy: 0.4096\n",
      "Epoch  8, CIFAR-10 Batch 2:  Loss: 1.6375 Accuracy: 0.4000\n",
      "Epoch  8, CIFAR-10 Batch 3:  Loss: 1.4748 Accuracy: 0.4172\n",
      "Epoch  8, CIFAR-10 Batch 4:  Loss: 1.5673 Accuracy: 0.4112\n",
      "Epoch  8, CIFAR-10 Batch 5:  Loss: 1.4761 Accuracy: 0.4188\n",
      "Epoch  9, CIFAR-10 Batch 1:  Loss: 1.6908 Accuracy: 0.4270\n",
      "Epoch  9, CIFAR-10 Batch 2:  Loss: 1.5623 Accuracy: 0.4052\n",
      "Epoch  9, CIFAR-10 Batch 3:  Loss: 1.4442 Accuracy: 0.4286\n",
      "Epoch  9, CIFAR-10 Batch 4:  Loss: 1.5174 Accuracy: 0.4228\n",
      "Epoch  9, CIFAR-10 Batch 5:  Loss: 1.4345 Accuracy: 0.4296\n",
      "Epoch 10, CIFAR-10 Batch 1:  Loss: 1.6228 Accuracy: 0.4354\n",
      "Epoch 10, CIFAR-10 Batch 2:  Loss: 1.5145 Accuracy: 0.4236\n",
      "Epoch 10, CIFAR-10 Batch 3:  Loss: 1.3983 Accuracy: 0.4386\n",
      "Epoch 10, CIFAR-10 Batch 4:  Loss: 1.4617 Accuracy: 0.4400\n",
      "Epoch 10, CIFAR-10 Batch 5:  Loss: 1.3906 Accuracy: 0.4412\n",
      "Epoch 11, CIFAR-10 Batch 1:  Loss: 1.5369 Accuracy: 0.4504\n",
      "Epoch 11, CIFAR-10 Batch 2:  Loss: 1.4739 Accuracy: 0.4416\n",
      "Epoch 11, CIFAR-10 Batch 3:  Loss: 1.3754 Accuracy: 0.4466\n",
      "Epoch 11, CIFAR-10 Batch 4:  Loss: 1.4531 Accuracy: 0.4448\n",
      "Epoch 11, CIFAR-10 Batch 5:  Loss: 1.3777 Accuracy: 0.4416\n",
      "Epoch 12, CIFAR-10 Batch 1:  Loss: 1.4774 Accuracy: 0.4408\n",
      "Epoch 12, CIFAR-10 Batch 2:  Loss: 1.4421 Accuracy: 0.4550\n",
      "Epoch 12, CIFAR-10 Batch 3:  Loss: 1.3236 Accuracy: 0.4546\n",
      "Epoch 12, CIFAR-10 Batch 4:  Loss: 1.4146 Accuracy: 0.4624\n",
      "Epoch 12, CIFAR-10 Batch 5:  Loss: 1.3406 Accuracy: 0.4422\n",
      "Epoch 13, CIFAR-10 Batch 1:  Loss: 1.4132 Accuracy: 0.4640\n",
      "Epoch 13, CIFAR-10 Batch 2:  Loss: 1.3740 Accuracy: 0.4624\n",
      "Epoch 13, CIFAR-10 Batch 3:  Loss: 1.2540 Accuracy: 0.4712\n",
      "Epoch 13, CIFAR-10 Batch 4:  Loss: 1.3854 Accuracy: 0.4676\n",
      "Epoch 13, CIFAR-10 Batch 5:  Loss: 1.2422 Accuracy: 0.4754\n",
      "Epoch 14, CIFAR-10 Batch 1:  Loss: 1.3061 Accuracy: 0.4798\n",
      "Epoch 14, CIFAR-10 Batch 2:  Loss: 1.3209 Accuracy: 0.4666\n",
      "Epoch 14, CIFAR-10 Batch 3:  Loss: 1.1981 Accuracy: 0.4856\n",
      "Epoch 14, CIFAR-10 Batch 4:  Loss: 1.3296 Accuracy: 0.4810\n",
      "Epoch 14, CIFAR-10 Batch 5:  Loss: 1.2642 Accuracy: 0.4836\n",
      "Epoch 15, CIFAR-10 Batch 1:  Loss: 1.2462 Accuracy: 0.4874\n",
      "Epoch 15, CIFAR-10 Batch 2:  Loss: 1.2399 Accuracy: 0.4972\n",
      "Epoch 15, CIFAR-10 Batch 3:  Loss: 1.1915 Accuracy: 0.4878\n",
      "Epoch 15, CIFAR-10 Batch 4:  Loss: 1.3025 Accuracy: 0.4826\n",
      "Epoch 15, CIFAR-10 Batch 5:  Loss: 1.2243 Accuracy: 0.4966\n",
      "Epoch 16, CIFAR-10 Batch 1:  Loss: 1.2354 Accuracy: 0.4982\n",
      "Epoch 16, CIFAR-10 Batch 2:  Loss: 1.1952 Accuracy: 0.5024\n",
      "Epoch 16, CIFAR-10 Batch 3:  Loss: 1.1001 Accuracy: 0.5074\n",
      "Epoch 16, CIFAR-10 Batch 4:  Loss: 1.2815 Accuracy: 0.4850\n",
      "Epoch 16, CIFAR-10 Batch 5:  Loss: 1.2309 Accuracy: 0.5000\n",
      "Epoch 17, CIFAR-10 Batch 1:  Loss: 1.2075 Accuracy: 0.5092\n",
      "Epoch 17, CIFAR-10 Batch 2:  Loss: 1.1885 Accuracy: 0.5040\n",
      "Epoch 17, CIFAR-10 Batch 3:  Loss: 1.1113 Accuracy: 0.5044\n",
      "Epoch 17, CIFAR-10 Batch 4:  Loss: 1.2330 Accuracy: 0.5072\n",
      "Epoch 17, CIFAR-10 Batch 5:  Loss: 1.1788 Accuracy: 0.5046\n",
      "Epoch 18, CIFAR-10 Batch 1:  Loss: 1.1776 Accuracy: 0.5138\n",
      "Epoch 18, CIFAR-10 Batch 2:  Loss: 1.1176 Accuracy: 0.5084\n",
      "Epoch 18, CIFAR-10 Batch 3:  Loss: 1.0469 Accuracy: 0.5240\n",
      "Epoch 18, CIFAR-10 Batch 4:  Loss: 1.2036 Accuracy: 0.5156\n",
      "Epoch 18, CIFAR-10 Batch 5:  Loss: 1.1518 Accuracy: 0.5178\n",
      "Epoch 19, CIFAR-10 Batch 1:  Loss: 1.1437 Accuracy: 0.5296\n",
      "Epoch 19, CIFAR-10 Batch 2:  Loss: 1.1573 Accuracy: 0.5068\n",
      "Epoch 19, CIFAR-10 Batch 3:  Loss: 1.0269 Accuracy: 0.5266\n",
      "Epoch 19, CIFAR-10 Batch 4:  Loss: 1.1872 Accuracy: 0.5144\n",
      "Epoch 19, CIFAR-10 Batch 5:  Loss: 1.1021 Accuracy: 0.5160\n",
      "Epoch 20, CIFAR-10 Batch 1:  Loss: 1.0940 Accuracy: 0.5152\n",
      "Epoch 20, CIFAR-10 Batch 2:  Loss: 1.0960 Accuracy: 0.5194\n",
      "Epoch 20, CIFAR-10 Batch 3:  Loss: 0.9899 Accuracy: 0.5262\n",
      "Epoch 20, CIFAR-10 Batch 4:  Loss: 1.1669 Accuracy: 0.5068\n",
      "Epoch 20, CIFAR-10 Batch 5:  Loss: 1.0798 Accuracy: 0.5226\n",
      "Epoch 21, CIFAR-10 Batch 1:  Loss: 1.0570 Accuracy: 0.5344\n",
      "Epoch 21, CIFAR-10 Batch 2:  Loss: 1.0724 Accuracy: 0.5256\n",
      "Epoch 21, CIFAR-10 Batch 3:  Loss: 1.0041 Accuracy: 0.5350\n",
      "Epoch 21, CIFAR-10 Batch 4:  Loss: 1.1687 Accuracy: 0.5134\n",
      "Epoch 21, CIFAR-10 Batch 5:  Loss: 1.0651 Accuracy: 0.5244\n",
      "Epoch 22, CIFAR-10 Batch 1:  Loss: 1.0299 Accuracy: 0.5320\n",
      "Epoch 22, CIFAR-10 Batch 2:  Loss: 1.0702 Accuracy: 0.5322\n",
      "Epoch 22, CIFAR-10 Batch 3:  Loss: 0.9491 Accuracy: 0.5392\n",
      "Epoch 22, CIFAR-10 Batch 4:  Loss: 1.1003 Accuracy: 0.5350\n",
      "Epoch 22, CIFAR-10 Batch 5:  Loss: 1.0198 Accuracy: 0.5258\n",
      "Epoch 23, CIFAR-10 Batch 1:  Loss: 0.9981 Accuracy: 0.5348\n",
      "Epoch 23, CIFAR-10 Batch 2:  Loss: 1.0621 Accuracy: 0.5202\n",
      "Epoch 23, CIFAR-10 Batch 3:  Loss: 0.9580 Accuracy: 0.5460\n",
      "Epoch 23, CIFAR-10 Batch 4:  Loss: 1.0886 Accuracy: 0.5284\n",
      "Epoch 23, CIFAR-10 Batch 5:  Loss: 1.0121 Accuracy: 0.5250\n",
      "Epoch 24, CIFAR-10 Batch 1:  Loss: 1.0079 Accuracy: 0.5370\n",
      "Epoch 24, CIFAR-10 Batch 2:  Loss: 1.0371 Accuracy: 0.5290\n",
      "Epoch 24, CIFAR-10 Batch 3:  Loss: 0.9334 Accuracy: 0.5388\n",
      "Epoch 24, CIFAR-10 Batch 4:  Loss: 1.0745 Accuracy: 0.5290\n",
      "Epoch 24, CIFAR-10 Batch 5:  Loss: 1.0031 Accuracy: 0.5322\n",
      "Epoch 25, CIFAR-10 Batch 1:  Loss: 0.9626 Accuracy: 0.5324\n",
      "Epoch 25, CIFAR-10 Batch 2:  Loss: 1.0261 Accuracy: 0.5296\n",
      "Epoch 25, CIFAR-10 Batch 3:  Loss: 0.9553 Accuracy: 0.5408\n",
      "Epoch 25, CIFAR-10 Batch 4:  Loss: 1.0741 Accuracy: 0.5372\n",
      "Epoch 25, CIFAR-10 Batch 5:  Loss: 0.9872 Accuracy: 0.5270\n",
      "Epoch 26, CIFAR-10 Batch 1:  Loss: 0.9285 Accuracy: 0.5454\n",
      "Epoch 26, CIFAR-10 Batch 2:  Loss: 1.0005 Accuracy: 0.5494\n",
      "Epoch 26, CIFAR-10 Batch 3:  Loss: 0.8845 Accuracy: 0.5504\n",
      "Epoch 26, CIFAR-10 Batch 4:  Loss: 1.0621 Accuracy: 0.5424\n",
      "Epoch 26, CIFAR-10 Batch 5:  Loss: 0.9706 Accuracy: 0.5354\n",
      "Epoch 27, CIFAR-10 Batch 1:  Loss: 0.9594 Accuracy: 0.5468\n",
      "Epoch 27, CIFAR-10 Batch 2:  Loss: 0.9673 Accuracy: 0.5390\n",
      "Epoch 27, CIFAR-10 Batch 3:  Loss: 0.8760 Accuracy: 0.5534\n",
      "Epoch 27, CIFAR-10 Batch 4:  Loss: 1.0168 Accuracy: 0.5426\n",
      "Epoch 27, CIFAR-10 Batch 5:  Loss: 0.9394 Accuracy: 0.5516\n",
      "Epoch 28, CIFAR-10 Batch 1:  Loss: 0.9050 Accuracy: 0.5462\n",
      "Epoch 28, CIFAR-10 Batch 2:  Loss: 0.9541 Accuracy: 0.5404\n",
      "Epoch 28, CIFAR-10 Batch 3:  Loss: 0.8869 Accuracy: 0.5506\n",
      "Epoch 28, CIFAR-10 Batch 4:  Loss: 0.9751 Accuracy: 0.5494\n"
     ]
    },
    {
     "name": "stdout",
     "output_type": "stream",
     "text": [
      "Epoch 28, CIFAR-10 Batch 5:  Loss: 0.9278 Accuracy: 0.5562\n",
      "Epoch 29, CIFAR-10 Batch 1:  Loss: 0.9078 Accuracy: 0.5570\n",
      "Epoch 29, CIFAR-10 Batch 2:  Loss: 0.9221 Accuracy: 0.5438\n",
      "Epoch 29, CIFAR-10 Batch 3:  Loss: 0.8404 Accuracy: 0.5534\n",
      "Epoch 29, CIFAR-10 Batch 4:  Loss: 0.9726 Accuracy: 0.5514\n",
      "Epoch 29, CIFAR-10 Batch 5:  Loss: 0.8975 Accuracy: 0.5552\n",
      "Epoch 30, CIFAR-10 Batch 1:  Loss: 0.8921 Accuracy: 0.5566\n",
      "Epoch 30, CIFAR-10 Batch 2:  Loss: 0.9226 Accuracy: 0.5442\n",
      "Epoch 30, CIFAR-10 Batch 3:  Loss: 0.8103 Accuracy: 0.5566\n",
      "Epoch 30, CIFAR-10 Batch 4:  Loss: 0.9699 Accuracy: 0.5502\n",
      "Epoch 30, CIFAR-10 Batch 5:  Loss: 0.8843 Accuracy: 0.5518\n",
      "Epoch 31, CIFAR-10 Batch 1:  Loss: 0.8517 Accuracy: 0.5588\n",
      "Epoch 31, CIFAR-10 Batch 2:  Loss: 0.9350 Accuracy: 0.5580\n",
      "Epoch 31, CIFAR-10 Batch 3:  Loss: 0.7989 Accuracy: 0.5572\n",
      "Epoch 31, CIFAR-10 Batch 4:  Loss: 0.9205 Accuracy: 0.5590\n",
      "Epoch 31, CIFAR-10 Batch 5:  Loss: 0.8607 Accuracy: 0.5590\n",
      "Epoch 32, CIFAR-10 Batch 1:  Loss: 0.8353 Accuracy: 0.5590\n",
      "Epoch 32, CIFAR-10 Batch 2:  Loss: 0.9206 Accuracy: 0.5574\n",
      "Epoch 32, CIFAR-10 Batch 3:  Loss: 0.8038 Accuracy: 0.5600\n",
      "Epoch 32, CIFAR-10 Batch 4:  Loss: 0.9146 Accuracy: 0.5628\n",
      "Epoch 32, CIFAR-10 Batch 5:  Loss: 0.8532 Accuracy: 0.5612\n",
      "Epoch 33, CIFAR-10 Batch 1:  Loss: 0.8248 Accuracy: 0.5696\n",
      "Epoch 33, CIFAR-10 Batch 2:  Loss: 0.9274 Accuracy: 0.5524\n",
      "Epoch 33, CIFAR-10 Batch 3:  Loss: 0.7695 Accuracy: 0.5628\n",
      "Epoch 33, CIFAR-10 Batch 4:  Loss: 0.8766 Accuracy: 0.5592\n",
      "Epoch 33, CIFAR-10 Batch 5:  Loss: 0.8319 Accuracy: 0.5620\n",
      "Epoch 34, CIFAR-10 Batch 1:  Loss: 0.8382 Accuracy: 0.5606\n",
      "Epoch 34, CIFAR-10 Batch 2:  Loss: 0.8978 Accuracy: 0.5516\n",
      "Epoch 34, CIFAR-10 Batch 3:  Loss: 0.7697 Accuracy: 0.5650\n",
      "Epoch 34, CIFAR-10 Batch 4:  Loss: 0.8708 Accuracy: 0.5664\n",
      "Epoch 34, CIFAR-10 Batch 5:  Loss: 0.7985 Accuracy: 0.5668\n",
      "Epoch 35, CIFAR-10 Batch 1:  Loss: 0.8086 Accuracy: 0.5698\n",
      "Epoch 35, CIFAR-10 Batch 2:  Loss: 0.9145 Accuracy: 0.5484\n",
      "Epoch 35, CIFAR-10 Batch 3:  Loss: 0.7522 Accuracy: 0.5640\n",
      "Epoch 35, CIFAR-10 Batch 4:  Loss: 0.8730 Accuracy: 0.5682\n",
      "Epoch 35, CIFAR-10 Batch 5:  Loss: 0.7952 Accuracy: 0.5684\n",
      "Epoch 36, CIFAR-10 Batch 1:  Loss: 0.7983 Accuracy: 0.5630\n",
      "Epoch 36, CIFAR-10 Batch 2:  Loss: 0.8926 Accuracy: 0.5590\n",
      "Epoch 36, CIFAR-10 Batch 3:  Loss: 0.7533 Accuracy: 0.5704\n",
      "Epoch 36, CIFAR-10 Batch 4:  Loss: 0.8449 Accuracy: 0.5630\n",
      "Epoch 36, CIFAR-10 Batch 5:  Loss: 0.7740 Accuracy: 0.5662\n",
      "Epoch 37, CIFAR-10 Batch 1:  Loss: 0.7962 Accuracy: 0.5724\n",
      "Epoch 37, CIFAR-10 Batch 2:  Loss: 0.9051 Accuracy: 0.5534\n",
      "Epoch 37, CIFAR-10 Batch 3:  Loss: 0.7538 Accuracy: 0.5624\n",
      "Epoch 37, CIFAR-10 Batch 4:  Loss: 0.8473 Accuracy: 0.5696\n",
      "Epoch 37, CIFAR-10 Batch 5:  Loss: 0.7539 Accuracy: 0.5690\n",
      "Epoch 38, CIFAR-10 Batch 1:  Loss: 0.8013 Accuracy: 0.5682\n",
      "Epoch 38, CIFAR-10 Batch 2:  Loss: 0.8774 Accuracy: 0.5646\n",
      "Epoch 38, CIFAR-10 Batch 3:  Loss: 0.7451 Accuracy: 0.5712\n",
      "Epoch 38, CIFAR-10 Batch 4:  Loss: 0.8335 Accuracy: 0.5668\n",
      "Epoch 38, CIFAR-10 Batch 5:  Loss: 0.7533 Accuracy: 0.5688\n",
      "Epoch 39, CIFAR-10 Batch 1:  Loss: 0.7928 Accuracy: 0.5740\n",
      "Epoch 39, CIFAR-10 Batch 2:  Loss: 0.8557 Accuracy: 0.5654\n",
      "Epoch 39, CIFAR-10 Batch 3:  Loss: 0.7490 Accuracy: 0.5726\n",
      "Epoch 39, CIFAR-10 Batch 4:  Loss: 0.8522 Accuracy: 0.5708\n",
      "Epoch 39, CIFAR-10 Batch 5:  Loss: 0.7336 Accuracy: 0.5732\n",
      "Epoch 40, CIFAR-10 Batch 1:  Loss: 0.7530 Accuracy: 0.5724\n",
      "Epoch 40, CIFAR-10 Batch 2:  Loss: 0.8317 Accuracy: 0.5644\n",
      "Epoch 40, CIFAR-10 Batch 3:  Loss: 0.7479 Accuracy: 0.5566\n",
      "Epoch 40, CIFAR-10 Batch 4:  Loss: 0.8272 Accuracy: 0.5744\n",
      "Epoch 40, CIFAR-10 Batch 5:  Loss: 0.7184 Accuracy: 0.5706\n"
     ]
    }
   ],
   "source": [
    "\"\"\"\n",
    "DON'T MODIFY ANYTHING IN THIS CELL\n",
    "\"\"\"\n",
    "save_model_path = './image_classification'\n",
    "\n",
    "print('Training...')\n",
    "with tf.Session() as sess:\n",
    "    # Initializing the variables\n",
    "    sess.run(tf.global_variables_initializer())\n",
    "    \n",
    "    # Training cycle\n",
    "    for epoch in range(epochs):\n",
    "        # Loop over all batches\n",
    "        n_batches = 5\n",
    "        for batch_i in range(1, n_batches + 1):\n",
    "            for batch_features, batch_labels in helper.load_preprocess_training_batch(batch_i, batch_size):\n",
    "                train_neural_network(sess, optimizer, keep_probability, batch_features, batch_labels)\n",
    "            print('Epoch {:>2}, CIFAR-10 Batch {}:  '.format(epoch + 1, batch_i), end='')\n",
    "            print_stats(sess, batch_features, batch_labels, cost, accuracy)\n",
    "            \n",
    "    # Save Model\n",
    "    saver = tf.train.Saver()\n",
    "    save_path = saver.save(sess, save_model_path)"
   ]
  },
  {
   "cell_type": "markdown",
   "metadata": {},
   "source": [
    "# Checkpoint\n",
    "The model has been saved to disk.\n",
    "## Test Model\n",
    "Test your model against the test dataset.  This will be your final accuracy. You should have an accuracy greater than 50%. If you don't, keep tweaking the model architecture and parameters."
   ]
  },
  {
   "cell_type": "code",
   "execution_count": 18,
   "metadata": {},
   "outputs": [
    {
     "name": "stdout",
     "output_type": "stream",
     "text": [
      "INFO:tensorflow:Restoring parameters from ./image_classification\n",
      "Testing Accuracy: 0.5771484375\n",
      "\n"
     ]
    },
    {
     "data": {
      "image/png": "[encoded data removed]",
      "text/plain": [
       "<matplotlib.figure.Figure at 0x7f45bc5ab4a8>"
      ]
     },
     "metadata": {
      "image/png": {
       "height": 319,
       "width": 355
      }
     },
     "output_type": "display_data"
    }
   ],
   "source": [
    "\"\"\"\n",
    "DON'T MODIFY ANYTHING IN THIS CELL\n",
    "\"\"\"\n",
    "%matplotlib inline\n",
    "%config InlineBackend.figure_format = 'retina'\n",
    "\n",
    "import tensorflow as tf\n",
    "import pickle\n",
    "import helper\n",
    "import random\n",
    "\n",
    "# Set batch size if not already set\n",
    "try:\n",
    "    if batch_size:\n",
    "        pass\n",
    "except NameError:\n",
    "    batch_size = 64\n",
    "\n",
    "save_model_path = './image_classification'\n",
    "n_samples = 4\n",
    "top_n_predictions = 3\n",
    "\n",
    "def test_model():\n",
    "    \"\"\"\n",
    "    Test the saved model against the test dataset\n",
    "    \"\"\"\n",
    "\n",
    "    test_features, test_labels = pickle.load(open('preprocess_test.p', mode='rb'))\n",
    "    loaded_graph = tf.Graph()\n",
    "\n",
    "    with tf.Session(graph=loaded_graph) as sess:\n",
    "        # Load model\n",
    "        loader = tf.train.import_meta_graph(save_model_path + '.meta')\n",
    "        loader.restore(sess, save_model_path)\n",
    "\n",
    "        # Get Tensors from loaded model\n",
    "        loaded_x = loaded_graph.get_tensor_by_name('x:0')\n",
    "        loaded_y = loaded_graph.get_tensor_by_name('y:0')\n",
    "        loaded_keep_prob = loaded_graph.get_tensor_by_name('keep_prob:0')\n",
    "        loaded_logits = loaded_graph.get_tensor_by_name('logits:0')\n",
    "        loaded_acc = loaded_graph.get_tensor_by_name('accuracy:0')\n",
    "        \n",
    "        # Get accuracy in batches for memory limitations\n",
    "        test_batch_acc_total = 0\n",
    "        test_batch_count = 0\n",
    "        \n",
    "        for test_feature_batch, test_label_batch in helper.batch_features_labels(test_features, test_labels, batch_size):\n",
    "            test_batch_acc_total += sess.run(\n",
    "                loaded_acc,\n",
    "                feed_dict={loaded_x: test_feature_batch, loaded_y: test_label_batch, loaded_keep_prob: 1.0})\n",
    "            test_batch_count += 1\n",
    "\n",
    "        print('Testing Accuracy: {}\\n'.format(test_batch_acc_total/test_batch_count))\n",
    "\n",
    "        # Print Random Samples\n",
    "        random_test_features, random_test_labels = tuple(zip(*random.sample(list(zip(test_features, test_labels)), n_samples)))\n",
    "        random_test_predictions = sess.run(\n",
    "            tf.nn.top_k(tf.nn.softmax(loaded_logits), top_n_predictions),\n",
    "            feed_dict={loaded_x: random_test_features, loaded_y: random_test_labels, loaded_keep_prob: 1.0})\n",
    "        helper.display_image_predictions(random_test_features, random_test_labels, random_test_predictions)\n",
    "\n",
    "\n",
    "test_model()"
   ]
  },
  {
   "cell_type": "markdown",
   "metadata": {},
   "source": [
    "## Why 50-80% Accuracy?\n",
    "You might be wondering why you can't get an accuracy any higher. First things first, 50% isn't bad for a simple CNN.  Pure guessing would get you 10% accuracy. However, you might notice people are getting scores [well above 80%](http://rodrigob.github.io/are_we_there_yet/build/classification_datasets_results.html#43494641522d3130).  That's because we haven't taught you all there is to know about neural networks. We still need to cover a few more techniques.\n",
    "## Submitting This Project\n",
    "When submitting this project, make sure to run all the cells before saving the notebook.  Save the notebook file as \"dlnd_image_classification.ipynb\" and save it as a HTML file under \"File\" -> \"Download as\".  Include the \"helper.py\" and \"problem_unittests.py\" files in your submission."
   ]
  }
 ],
 "metadata": {
  "kernelspec": {
   "display_name": "Python 3",
   "language": "python",
   "name": "python3"
  },
  "language_info": {
   "codemirror_mode": {
    "name": "ipython",
    "version": 3
   },
   "file_extension": ".py",
   "mimetype": "text/x-python",
   "name": "python",
   "nbconvert_exporter": "python",
   "pygments_lexer": "ipython3",
   "version": "3.6.2"
  }
 },
 "nbformat": 4,
 "nbformat_minor": 1
}
